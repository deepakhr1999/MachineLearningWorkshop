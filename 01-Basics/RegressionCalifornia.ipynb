{
 "cells": [
  {
   "cell_type": "markdown",
   "metadata": {},
   "source": [
    "## recommended if you are able to do\n",
    "- should be able to run script in local computer\n",
    "- install pandas, numpy and sklearn\n",
    "\n",
    "## First part\n",
    "- Intro (super and unsupervised learning basics) 30min\n",
    "- Talk about pipeline - train + val + test 15mins\n",
    "- Demo data and fitting a line then overfitting, underfitting, effect of regularizatoin for 'just right' (while teaching each of 3 topics above)\n",
    "\n",
    "## Second part\n",
    "- regression, clustering, classification 3 notebooks\n",
    "- regularization?\n",
    "- mnist assignment"
   ]
  },
  {
   "cell_type": "markdown",
   "metadata": {},
   "source": [
    "overfitting, underfitting, regularization?"
   ]
  },
  {
   "cell_type": "markdown",
   "metadata": {},
   "source": [
    "metric, loss => difference between regression and classification \n",
    "mean squared error"
   ]
  },
  {
   "cell_type": "markdown",
   "metadata": {},
   "source": [
    "# Linear Regression\n",
    "<img src='images/regression.ppm' width=400><br>\n",
    "Example of 1D linear Regression"
   ]
  },
  {
   "cell_type": "markdown",
   "metadata": {},
   "source": [
    "### Imports"
   ]
  },
  {
   "cell_type": "code",
   "execution_count": 9,
   "metadata": {},
   "outputs": [],
   "source": [
    "from sklearn import datasets\n",
    "import numpy as np\n",
    "import pandas as pd\n",
    "np.set_printoptions(precision=3)\n",
    "from sklearn.linear_model import LinearRegression\n",
    "from sklearn.model_selection import train_test_split\n",
    "import matplotlib.pyplot as plt\n",
    "\n",
    "import seaborn as sns\n",
    "sns.set_style(\"dark\")"
   ]
  },
  {
   "cell_type": "markdown",
   "metadata": {},
   "source": [
    "Data description : [california_housing](https://scikit-learn.org/stable/datasets/real_world.html#california-housing-dataset)"
   ]
  },
  {
   "cell_type": "markdown",
   "metadata": {},
   "source": [
    "### Data Preprocessing"
   ]
  },
  {
   "cell_type": "code",
   "execution_count": 67,
   "metadata": {},
   "outputs": [
    {
     "name": "stdout",
     "output_type": "stream",
     "text": [
      "Train X (15480, 1) Train y (15480,)\n",
      "Test X (5160, 1) Test y (5160,)\n"
     ]
    }
   ],
   "source": [
    "# load data\n",
    "X, y = datasets.fetch_california_housing(as_frame=True, return_X_y=True)\n",
    "\n",
    "# use only 1D as it's the simplest to visualise\n",
    "# we use \"Median Income\" of a household to predict its price\n",
    "X = X[\"MedInc\"]\n",
    "\n",
    "# split into train and test sets\n",
    "X_train, X_test, y_train, y_test = train_test_split(X, y, test_size=0.25, random_state=42)\n",
    "\n",
    "# reshape X arrays into 2D from 1D\n",
    "X_train = X_train.values.reshape(-1, 1)\n",
    "X_test = X_test.values.reshape(-1, 1)\n",
    "\n",
    "# convert y arrays into NumPy arrays\n",
    "y_train = y_train.values\n",
    "y_test = y_test.values\n",
    "\n",
    "# see the shapes of train/test samples\n",
    "print(\"Train X\", X_train.shape, \"Train y\", y_train.shape)\n",
    "print(\"Test X\", X_test.shape, \"Test y\", y_test.shape)"
   ]
  },
  {
   "cell_type": "markdown",
   "metadata": {},
   "source": [
    "### Linear Regression Model"
   ]
  },
  {
   "cell_type": "code",
   "execution_count": 68,
   "metadata": {},
   "outputs": [],
   "source": [
    "# define your model\n",
    "model = LinearRegression()"
   ]
  },
  {
   "cell_type": "code",
   "execution_count": 70,
   "metadata": {},
   "outputs": [
    {
     "name": "stdout",
     "output_type": "stream",
     "text": [
      "coefficients [0.418]\n",
      "intercepts 0.4496756419968606\n"
     ]
    }
   ],
   "source": [
    "# train the model\n",
    "model.fit(X_train, y_train)\n",
    "\n",
    "print('coefficients', model.coef_)\n",
    "print('intercepts', model.intercept_)"
   ]
  },
  {
   "cell_type": "markdown",
   "metadata": {},
   "source": [
    "# Example predictions"
   ]
  },
  {
   "cell_type": "code",
   "execution_count": 71,
   "metadata": {},
   "outputs": [
    {
     "name": "stdout",
     "output_type": "stream",
     "text": [
      "1.152216960355715 0.477\n"
     ]
    }
   ],
   "source": [
    "X_example = X_test[:10]\n",
    "y_example = y_test[:10]\n",
    "\n",
    "\n",
    "# manually predict first example\n",
    "predicted = model.intercept_\n",
    "for i, x_i in enumerate(X_example[0]):\n",
    "    predicted += model.coef_[i] * x_i\n",
    "    \n",
    "print(predicted, y_example[0])"
   ]
  },
  {
   "cell_type": "code",
   "execution_count": 72,
   "metadata": {},
   "outputs": [
    {
     "data": {
      "text/html": [
       "<div>\n",
       "<style scoped>\n",
       "    .dataframe tbody tr th:only-of-type {\n",
       "        vertical-align: middle;\n",
       "    }\n",
       "\n",
       "    .dataframe tbody tr th {\n",
       "        vertical-align: top;\n",
       "    }\n",
       "\n",
       "    .dataframe thead th {\n",
       "        text-align: right;\n",
       "    }\n",
       "</style>\n",
       "<table border=\"1\" class=\"dataframe\">\n",
       "  <thead>\n",
       "    <tr style=\"text-align: right;\">\n",
       "      <th></th>\n",
       "      <th>actual</th>\n",
       "      <th>predicted</th>\n",
       "      <th>difference</th>\n",
       "    </tr>\n",
       "  </thead>\n",
       "  <tbody>\n",
       "    <tr>\n",
       "      <th>0</th>\n",
       "      <td>0.477</td>\n",
       "      <td>1.152</td>\n",
       "      <td>0.675</td>\n",
       "    </tr>\n",
       "    <tr>\n",
       "      <th>1</th>\n",
       "      <td>0.458</td>\n",
       "      <td>1.507</td>\n",
       "      <td>1.049</td>\n",
       "    </tr>\n",
       "    <tr>\n",
       "      <th>2</th>\n",
       "      <td>5.000</td>\n",
       "      <td>1.904</td>\n",
       "      <td>-3.096</td>\n",
       "    </tr>\n",
       "    <tr>\n",
       "      <th>3</th>\n",
       "      <td>2.186</td>\n",
       "      <td>2.847</td>\n",
       "      <td>0.661</td>\n",
       "    </tr>\n",
       "    <tr>\n",
       "      <th>4</th>\n",
       "      <td>2.780</td>\n",
       "      <td>2.006</td>\n",
       "      <td>-0.774</td>\n",
       "    </tr>\n",
       "    <tr>\n",
       "      <th>5</th>\n",
       "      <td>1.587</td>\n",
       "      <td>2.420</td>\n",
       "      <td>0.833</td>\n",
       "    </tr>\n",
       "    <tr>\n",
       "      <th>6</th>\n",
       "      <td>1.982</td>\n",
       "      <td>2.574</td>\n",
       "      <td>0.592</td>\n",
       "    </tr>\n",
       "    <tr>\n",
       "      <th>7</th>\n",
       "      <td>1.575</td>\n",
       "      <td>1.992</td>\n",
       "      <td>0.417</td>\n",
       "    </tr>\n",
       "    <tr>\n",
       "      <th>8</th>\n",
       "      <td>3.400</td>\n",
       "      <td>2.457</td>\n",
       "      <td>-0.943</td>\n",
       "    </tr>\n",
       "    <tr>\n",
       "      <th>9</th>\n",
       "      <td>4.466</td>\n",
       "      <td>3.840</td>\n",
       "      <td>-0.626</td>\n",
       "    </tr>\n",
       "  </tbody>\n",
       "</table>\n",
       "</div>"
      ],
      "text/plain": [
       "   actual  predicted  difference\n",
       "0   0.477      1.152       0.675\n",
       "1   0.458      1.507       1.049\n",
       "2   5.000      1.904      -3.096\n",
       "3   2.186      2.847       0.661\n",
       "4   2.780      2.006      -0.774\n",
       "5   1.587      2.420       0.833\n",
       "6   1.982      2.574       0.592\n",
       "7   1.575      1.992       0.417\n",
       "8   3.400      2.457      -0.943\n",
       "9   4.466      3.840      -0.626"
      ]
     },
     "execution_count": 72,
     "metadata": {},
     "output_type": "execute_result"
    }
   ],
   "source": [
    "y_example_pred = model.predict(X_example)\n",
    "\n",
    "pd.DataFrame({\n",
    "    'actual': y_example,\n",
    "    'predicted':  y_example_pred,\n",
    "    'difference':  y_example_pred - y_example,\n",
    "}).round(3)"
   ]
  },
  {
   "cell_type": "markdown",
   "metadata": {},
   "source": [
    "# Mean Squared Error"
   ]
  },
  {
   "cell_type": "code",
   "execution_count": 73,
   "metadata": {},
   "outputs": [
    {
     "name": "stdout",
     "output_type": "stream",
     "text": [
      "Train mean squared error 0.47430292180263645\n",
      "Test mean squared error 0.47083837938023365\n"
     ]
    }
   ],
   "source": [
    "mse = model.score(X_train, y_train)\n",
    "print(\"Train mean squared error\", mse)\n",
    "\n",
    "mse = model.score(X_test, y_test)\n",
    "print(\"Test mean squared error\", mse)"
   ]
  },
  {
   "cell_type": "markdown",
   "metadata": {},
   "source": [
    "# Plots"
   ]
  },
  {
   "cell_type": "code",
   "execution_count": 79,
   "metadata": {},
   "outputs": [
    {
     "data": {
      "text/plain": [
       "<matplotlib.legend.Legend at 0x7f85c2f86040>"
      ]
     },
     "execution_count": 79,
     "metadata": {},
     "output_type": "execute_result"
    },
    {
     "data": {
      "image/png": "[encoded data removed]",
      "text/plain": [
       "<Figure size 432x288 with 1 Axes>"
      ]
     },
     "metadata": {},
     "output_type": "display_data"
    }
   ],
   "source": [
    "# choose 2 points to get the line\n",
    "m = model.coef_[0]\n",
    "c = model.intercept_\n",
    "\n",
    "x1 = X_example[0, 0]\n",
    "y1 = c + m * x1\n",
    "\n",
    "# plot the points (using only first component of X as 2D graph is easy to interpret)\n",
    "plt.scatter(X_example[:, 0], y_example)\n",
    "# plot the line\n",
    "plt.axline((x1, y1), slope=m, c=\"red\", label=\"predicted cost\")\n",
    "\n",
    "# graph attributes\n",
    "plt.xlabel(\"Median Income\")\n",
    "plt.ylabel(\"Price of house in $100000s\")\n",
    "plt.legend()"
   ]
  },
  {
   "cell_type": "code",
   "execution_count": 4,
   "metadata": {},
   "outputs": [
    {
     "data": {
      "image/png": "[encoded data removed]",
      "text/plain": [
       "<Figure size 432x288 with 1 Axes>"
      ]
     },
     "metadata": {
      "needs_background": "light"
     },
     "output_type": "display_data"
    }
   ],
   "source": [
    "plt.clf()\n",
    "plt.hist(y, bins=30)\n",
    "plt.xlabel('Price')\n",
    "plt.ylabel('Frequency')\n",
    "plt.title('Histogram of price')"
   ]
  }
 ],
 "metadata": {
  "kernelspec": {
   "display_name": "Python 3",
   "language": "python",
   "name": "python3"
  },
  "language_info": {
   "codemirror_mode": {
    "name": "ipython",
    "version": 3
   },
   "file_extension": ".py",
   "mimetype": "text/x-python",
   "name": "python",
   "nbconvert_exporter": "python",
   "pygments_lexer": "ipython3",
   "version": "3.7.9"
  }
 },
 "nbformat": 4,
 "nbformat_minor": 4
}
