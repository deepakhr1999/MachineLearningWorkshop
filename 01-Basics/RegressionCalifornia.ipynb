{
 "cells": [
  {
   "cell_type": "markdown",
   "metadata": {},
   "source": [
    "## recommended if you are able to do\n",
    "- should be able to run script in local computer\n",
    "- install pandas, numpy and sklearn\n",
    "\n",
    "## First session talk\n",
    "- Intro (super and unsupervised learning basics) 30min\n",
    "- Class and imports overview 15mins\n",
    "- Numpy and pandas 15 mins\n",
    "\n",
    "## Second session coding\n",
    "- Talk about pipeline - train + val + test\n",
    "- regression, clustering, classification 3 notebooks\n",
    "- Demo data and fitting a line then overfitting, underfitting (while teaching each of 3 topics above)\n",
    "- mnist assignment"
   ]
  },
  {
   "cell_type": "markdown",
   "metadata": {},
   "source": [
    "overfitting, underfitting, regularization?"
   ]
  },
  {
   "cell_type": "markdown",
   "metadata": {},
   "source": [
    "metric, loss => difference between regression and classification \n",
    "mean squared error"
   ]
  },
  {
   "cell_type": "markdown",
   "metadata": {},
   "source": [
    "# Linear Regression\n",
    "<img src='images/Linear-Regression-model-sample-illustration.ppm' width=400><br>\n",
    "Example of 1D linear Regression"
   ]
  },
  {
   "cell_type": "code",
   "execution_count": 1,
   "metadata": {},
   "outputs": [],
   "source": [
    "from sklearn import datasets\n",
    "import numpy as np\n",
    "import pandas as pd\n",
    "np.set_printoptions(precision=3)\n",
    "from sklearn.linear_model import LinearRegression\n",
    "from sklearn.model_selection import train_test_split"
   ]
  },
  {
   "cell_type": "markdown",
   "metadata": {},
   "source": [
    "Data description : [california_housing](https://scikit-learn.org/stable/datasets/real_world.html#california-housing-dataset)"
   ]
  },
  {
   "cell_type": "code",
   "execution_count": 2,
   "metadata": {},
   "outputs": [],
   "source": [
    "X, y = datasets.fetch_california_housing(as_frame=True, return_X_y=True)"
   ]
  },
  {
   "cell_type": "code",
   "execution_count": 3,
   "metadata": {},
   "outputs": [
    {
     "name": "stdout",
     "output_type": "stream",
     "text": [
      "coefficients [ 4.476e-01  9.568e-03 -1.248e-01  7.945e-01 -1.439e-06 -3.443e-03\n",
      " -4.186e-01 -4.334e-01]\n",
      "intercepts -37.02782758526927\n"
     ]
    }
   ],
   "source": [
    "X_train, X_test, y_train, y_test = train_test_split(X, y, test_size=0.25, random_state=42)\n",
    "\n",
    "model = LinearRegression()\n",
    "model.fit(X_train, y_train)\n",
    "\n",
    "print('coefficients', model.coef_)\n",
    "print('intercepts', model.intercept_)"
   ]
  },
  {
   "cell_type": "markdown",
   "metadata": {},
   "source": [
    "# Example predictions"
   ]
  },
  {
   "cell_type": "code",
   "execution_count": 14,
   "metadata": {},
   "outputs": [
    {
     "name": "stdout",
     "output_type": "stream",
     "text": [
      "2.2306738806198307 2.285\n"
     ]
    }
   ],
   "source": [
    "X_example = np.array(X_train)[:10]\n",
    "y_example = np.array(y_train)[:10]\n",
    "\n",
    "\n",
    "# manually predict first example\n",
    "predicted = model.intercept_\n",
    "for i, x_i in enumerate(X_example[0]):\n",
    "    predicted += model.coef_[i] * x_i\n",
    "    \n",
    "print(predicted, y_example[0])"
   ]
  },
  {
   "cell_type": "code",
   "execution_count": 15,
   "metadata": {},
   "outputs": [
    {
     "data": {
      "text/html": [
       "<div>\n",
       "<style scoped>\n",
       "    .dataframe tbody tr th:only-of-type {\n",
       "        vertical-align: middle;\n",
       "    }\n",
       "\n",
       "    .dataframe tbody tr th {\n",
       "        vertical-align: top;\n",
       "    }\n",
       "\n",
       "    .dataframe thead th {\n",
       "        text-align: right;\n",
       "    }\n",
       "</style>\n",
       "<table border=\"1\" class=\"dataframe\">\n",
       "  <thead>\n",
       "    <tr style=\"text-align: right;\">\n",
       "      <th></th>\n",
       "      <th>actual</th>\n",
       "      <th>predicted</th>\n",
       "      <th>difference</th>\n",
       "    </tr>\n",
       "  </thead>\n",
       "  <tbody>\n",
       "    <tr>\n",
       "      <th>0</th>\n",
       "      <td>2.285</td>\n",
       "      <td>2.231</td>\n",
       "      <td>-0.054</td>\n",
       "    </tr>\n",
       "    <tr>\n",
       "      <th>1</th>\n",
       "      <td>2.799</td>\n",
       "      <td>4.177</td>\n",
       "      <td>1.378</td>\n",
       "    </tr>\n",
       "    <tr>\n",
       "      <th>2</th>\n",
       "      <td>1.830</td>\n",
       "      <td>2.104</td>\n",
       "      <td>0.274</td>\n",
       "    </tr>\n",
       "    <tr>\n",
       "      <th>3</th>\n",
       "      <td>4.658</td>\n",
       "      <td>4.160</td>\n",
       "      <td>-0.498</td>\n",
       "    </tr>\n",
       "    <tr>\n",
       "      <th>4</th>\n",
       "      <td>1.500</td>\n",
       "      <td>-1.108</td>\n",
       "      <td>-2.608</td>\n",
       "    </tr>\n",
       "    <tr>\n",
       "      <th>5</th>\n",
       "      <td>2.509</td>\n",
       "      <td>1.232</td>\n",
       "      <td>-1.277</td>\n",
       "    </tr>\n",
       "    <tr>\n",
       "      <th>6</th>\n",
       "      <td>5.000</td>\n",
       "      <td>2.611</td>\n",
       "      <td>-2.389</td>\n",
       "    </tr>\n",
       "    <tr>\n",
       "      <th>7</th>\n",
       "      <td>1.208</td>\n",
       "      <td>-0.481</td>\n",
       "      <td>-1.689</td>\n",
       "    </tr>\n",
       "    <tr>\n",
       "      <th>8</th>\n",
       "      <td>5.000</td>\n",
       "      <td>6.638</td>\n",
       "      <td>1.638</td>\n",
       "    </tr>\n",
       "    <tr>\n",
       "      <th>9</th>\n",
       "      <td>0.993</td>\n",
       "      <td>-0.168</td>\n",
       "      <td>-1.161</td>\n",
       "    </tr>\n",
       "  </tbody>\n",
       "</table>\n",
       "</div>"
      ],
      "text/plain": [
       "   actual  predicted  difference\n",
       "0   2.285      2.231      -0.054\n",
       "1   2.799      4.177       1.378\n",
       "2   1.830      2.104       0.274\n",
       "3   4.658      4.160      -0.498\n",
       "4   1.500     -1.108      -2.608\n",
       "5   2.509      1.232      -1.277\n",
       "6   5.000      2.611      -2.389\n",
       "7   1.208     -0.481      -1.689\n",
       "8   5.000      6.638       1.638\n",
       "9   0.993     -0.168      -1.161"
      ]
     },
     "execution_count": 15,
     "metadata": {},
     "output_type": "execute_result"
    }
   ],
   "source": [
    "y_example_pred = model.predict(X_example)\n",
    "\n",
    "pd.DataFrame({\n",
    "    'actual': y_example,\n",
    "    'predicted':  y_example_pred,\n",
    "    'difference':  y_example_pred - y_example,\n",
    "}).round(3)"
   ]
  },
  {
   "cell_type": "markdown",
   "metadata": {},
   "source": [
    "# Mean Squared Error"
   ]
  },
  {
   "cell_type": "code",
   "execution_count": 6,
   "metadata": {},
   "outputs": [
    {
     "name": "stdout",
     "output_type": "stream",
     "text": [
      "Train mean squared error 0.609873031052925\n",
      "Test mean squared error 0.5910509795491352\n"
     ]
    }
   ],
   "source": [
    "mse = model.score(X_train, y_train)\n",
    "print(\"Train mean squared error\", mse)\n",
    "\n",
    "mse = model.score(X_test, y_test)\n",
    "print(\"Test mean squared error\", mse)"
   ]
  },
  {
   "cell_type": "markdown",
   "metadata": {},
   "source": [
    "# Plots"
   ]
  },
  {
   "cell_type": "code",
   "execution_count": 4,
   "metadata": {},
   "outputs": [
    {
     "data": {
      "image/png": "[encoded data removed]",
      "text/plain": [
       "<Figure size 432x288 with 1 Axes>"
      ]
     },
     "metadata": {
      "needs_background": "light"
     },
     "output_type": "display_data"
    }
   ],
   "source": [
    "plt.hist(y, bins=30)\n",
    "plt.xlabel('Price')\n",
    "plt.ylabel('Frequency')\n",
    "plt.title('Histogram of price');"
   ]
  }
 ],
 "metadata": {
  "kernelspec": {
   "display_name": "Python 3",
   "language": "python",
   "name": "python3"
  },
  "language_info": {
   "codemirror_mode": {
    "name": "ipython",
    "version": 3
   },
   "file_extension": ".py",
   "mimetype": "text/x-python",
   "name": "python",
   "nbconvert_exporter": "python",
   "pygments_lexer": "ipython3",
   "version": "3.7.7"
  }
 },
 "nbformat": 4,
 "nbformat_minor": 4
}
