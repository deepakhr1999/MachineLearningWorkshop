{
 "cells": [
  {
   "cell_type": "markdown",
   "metadata": {},
   "source": [
    "# Logistic Regression\n",
    "<img src='images/LogisticRegression.jpg' width=400><br>\n",
    "Example of 2D logistic Regression.<br>\n",
    "Unlike linear regression, we find a line that `separates` the two classes <br>\n",
    "This we learn values of `a, b, c` such that there's a line $ax_1 + bx_2 + c = 0$<br>\n",
    "Points that have $x_1, x_2$ such that $ax_1 + bx_2 + c < 0$ will be classified as `class 0` and rest as `class 1` "
   ]
  },
  {
   "cell_type": "code",
   "execution_count": 1,
   "metadata": {},
   "outputs": [],
   "source": [
    "from sklearn import datasets\n",
    "import numpy as np\n",
    "import pandas as pd\n",
    "np.set_printoptions(precision=3)\n",
    "from sklearn.linear_model import LogisticRegression\n",
    "from sklearn.model_selection import train_test_split"
   ]
  },
  {
   "cell_type": "markdown",
   "metadata": {},
   "source": [
    "Data description : [iris](https://scikit-learn.org/stable/modules/generated/sklearn.datasets.load_iris.html#sklearn.datasets.load_iris)"
   ]
  },
  {
   "cell_type": "code",
   "execution_count": 2,
   "metadata": {},
   "outputs": [
    {
     "name": "stdout",
     "output_type": "stream",
     "text": [
      "One example x=[5.1 3.5 1.4 0.2], y=0\n",
      "Five examples\n",
      "X: [[4.6 3.2 1.4 0.2]\n",
      " [5.3 3.7 1.5 0.2]\n",
      " [5.  3.3 1.4 0.2]\n",
      " [7.  3.2 4.7 1.4]\n",
      " [6.4 3.2 4.5 1.5]]\n",
      "y: [0 0 0 1 1]\n"
     ]
    }
   ],
   "source": [
    "X, y = datasets.load_iris(return_X_y=True)\n",
    "# a hack that works only here, done so that we have only two classes\n",
    "X, y = X[:99], y[:99]\n",
    "\n",
    "print(f\"One example x={X[0]}, y={y[0]}\")\n",
    "print(\"Five examples\")\n",
    "print(\"X:\", X[47:52])\n",
    "print(\"y:\", y[47:52])\n",
    "\n",
    "# normalise data\n",
    "X = (X - X.mean())/X.std()"
   ]
  },
  {
   "cell_type": "code",
   "execution_count": 3,
   "metadata": {},
   "outputs": [
    {
     "name": "stdout",
     "output_type": "stream",
     "text": [
      "coefficients [[ 0.702 -1.014  2.947  1.193]]\n",
      "intercepts [1.098]\n"
     ]
    }
   ],
   "source": [
    "X_train, X_test, y_train, y_test = train_test_split(X, y, test_size=0.25, random_state=42)\n",
    "\n",
    "model = LogisticRegression()\n",
    "model.fit(X_train, y_train)\n",
    "\n",
    "print('coefficients', model.coef_)\n",
    "print('intercepts', model.intercept_)"
   ]
  },
  {
   "cell_type": "markdown",
   "metadata": {},
   "source": [
    "# Example predictions"
   ]
  },
  {
   "cell_type": "code",
   "execution_count": 4,
   "metadata": {},
   "outputs": [
    {
     "name": "stdout",
     "output_type": "stream",
     "text": [
      "Predicted class: 0\n",
      "Actual Class: 0\n"
     ]
    }
   ],
   "source": [
    "X_example = X_train[10:20]\n",
    "y_example = y_train[10:20]\n",
    "\n",
    "# manually predict first example\n",
    "w0, w1, w2, w3, w4 = model.intercept_[0], *model.coef_[0]\n",
    "x1, x2, x3, x4 = X_example[0]\n",
    "output = w0 + w1*x1 + w2*x2 + w3*x3 + w4*x4\n",
    "if output <= 0:\n",
    "    print(\"Predicted class:\", 0)\n",
    "else:\n",
    "    print(\"Predicted class:\", 1)\n",
    "\n",
    "# def sigmoid(x):\n",
    "#     return 1 / (1 + np.exp(-x))\n",
    "# predicted = model.intercept_[0]\n",
    "# for i, x_i in enumerate(X_example[0]):\n",
    "#     predicted += model.coef_[0][i] * x_i\n",
    "# predicted = int(round(sigmoid(predicted)))\n",
    "# print(\"Predicted class:\", predicted)\n",
    "\n",
    "print(\"Actual Class:\", y_example[0])"
   ]
  },
  {
   "cell_type": "code",
   "execution_count": 5,
   "metadata": {},
   "outputs": [
    {
     "data": {
      "text/html": [
       "<div>\n",
       "<style scoped>\n",
       "    .dataframe tbody tr th:only-of-type {\n",
       "        vertical-align: middle;\n",
       "    }\n",
       "\n",
       "    .dataframe tbody tr th {\n",
       "        vertical-align: top;\n",
       "    }\n",
       "\n",
       "    .dataframe thead th {\n",
       "        text-align: right;\n",
       "    }\n",
       "</style>\n",
       "<table border=\"1\" class=\"dataframe\">\n",
       "  <thead>\n",
       "    <tr style=\"text-align: right;\">\n",
       "      <th></th>\n",
       "      <th>actual</th>\n",
       "      <th>predicted</th>\n",
       "      <th>is_correct</th>\n",
       "    </tr>\n",
       "  </thead>\n",
       "  <tbody>\n",
       "    <tr>\n",
       "      <th>0</th>\n",
       "      <td>0</td>\n",
       "      <td>0</td>\n",
       "      <td>True</td>\n",
       "    </tr>\n",
       "    <tr>\n",
       "      <th>1</th>\n",
       "      <td>1</td>\n",
       "      <td>1</td>\n",
       "      <td>True</td>\n",
       "    </tr>\n",
       "    <tr>\n",
       "      <th>2</th>\n",
       "      <td>0</td>\n",
       "      <td>0</td>\n",
       "      <td>True</td>\n",
       "    </tr>\n",
       "    <tr>\n",
       "      <th>3</th>\n",
       "      <td>0</td>\n",
       "      <td>0</td>\n",
       "      <td>True</td>\n",
       "    </tr>\n",
       "    <tr>\n",
       "      <th>4</th>\n",
       "      <td>1</td>\n",
       "      <td>1</td>\n",
       "      <td>True</td>\n",
       "    </tr>\n",
       "    <tr>\n",
       "      <th>5</th>\n",
       "      <td>0</td>\n",
       "      <td>0</td>\n",
       "      <td>True</td>\n",
       "    </tr>\n",
       "    <tr>\n",
       "      <th>6</th>\n",
       "      <td>0</td>\n",
       "      <td>0</td>\n",
       "      <td>True</td>\n",
       "    </tr>\n",
       "    <tr>\n",
       "      <th>7</th>\n",
       "      <td>1</td>\n",
       "      <td>1</td>\n",
       "      <td>True</td>\n",
       "    </tr>\n",
       "    <tr>\n",
       "      <th>8</th>\n",
       "      <td>0</td>\n",
       "      <td>0</td>\n",
       "      <td>True</td>\n",
       "    </tr>\n",
       "    <tr>\n",
       "      <th>9</th>\n",
       "      <td>0</td>\n",
       "      <td>0</td>\n",
       "      <td>True</td>\n",
       "    </tr>\n",
       "  </tbody>\n",
       "</table>\n",
       "</div>"
      ],
      "text/plain": [
       "   actual  predicted  is_correct\n",
       "0       0          0        True\n",
       "1       1          1        True\n",
       "2       0          0        True\n",
       "3       0          0        True\n",
       "4       1          1        True\n",
       "5       0          0        True\n",
       "6       0          0        True\n",
       "7       1          1        True\n",
       "8       0          0        True\n",
       "9       0          0        True"
      ]
     },
     "execution_count": 5,
     "metadata": {},
     "output_type": "execute_result"
    }
   ],
   "source": [
    "y_example_pred = model.predict(X_example)\n",
    "\n",
    "pd.DataFrame({\n",
    "    'actual': y_example,\n",
    "    'predicted':  y_example_pred,\n",
    "    'is_correct':  y_example_pred == y_example,\n",
    "})"
   ]
  },
  {
   "cell_type": "markdown",
   "metadata": {},
   "source": [
    "# Mean Squared Error"
   ]
  },
  {
   "cell_type": "code",
   "execution_count": 6,
   "metadata": {},
   "outputs": [
    {
     "name": "stdout",
     "output_type": "stream",
     "text": [
      "Train Accuracy 100.0\n",
      "Test Accuracy 100.0\n"
     ]
    }
   ],
   "source": [
    "acc = model.score(X_train, y_train)\n",
    "print(\"Train Accuracy\", acc * 100)\n",
    "\n",
    "acc = model.score(X_test, y_test)\n",
    "print(\"Test Accuracy\", acc * 100)"
   ]
  }
 ],
 "metadata": {
  "kernelspec": {
   "display_name": "Python 3",
   "language": "python",
   "name": "python3"
  },
  "language_info": {
   "codemirror_mode": {
    "name": "ipython",
    "version": 3
   },
   "file_extension": ".py",
   "mimetype": "text/x-python",
   "name": "python",
   "nbconvert_exporter": "python",
   "pygments_lexer": "ipython3",
   "version": "3.7.9"
  }
 },
 "nbformat": 4,
 "nbformat_minor": 4
}
